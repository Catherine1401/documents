{
  "nbformat": 4,
  "nbformat_minor": 0,
  "metadata": {
    "colab": {
      "private_outputs": true,
      "provenance": []
    },
    "kernelspec": {
      "name": "python3",
      "display_name": "Python 3"
    },
    "language_info": {
      "name": "python"
    }
  },
  "cells": [
    {
      "cell_type": "code",
      "source": [
        "# TASK 1\n",
        "# Import thư viện\n",
        "import numpy as np\n",
        "import matplotlib.pyplot as plt\n",
        "\n",
        "# Tạo numpy array x và y\n",
        "x = np.linspace(-3, 3, 100)\n",
        "y = np.sin(2*x * (x**3/5) + x**2 + 5*x)\n",
        "\n",
        "plt.plot(x, y)\n",
        "plt.xlabel('x')\n",
        "plt.ylabel('f(x)')\n",
        "plt.title('Đồ thị hàm f(x)')\n",
        "plt.show()\n",
        "\n",
        "# Định nghĩa hàm f(x) và grad_f(x)\n",
        "def f(x):\n",
        "    return np.sin(2*x * (x**3/5)) + x**2 + 5*x\n",
        "\n",
        "def grad_f(x):\n",
        "    return 2*np.cos(2*x * (x**3/5)) * (3/5 * x**2) + 2*x + 5\n",
        "\n",
        "# Gradient Descent tìm cực trị\n",
        "def gradient_descent(x0, lr=0.01, iterations=100):\n",
        "    x = x0\n",
        "    for i in range(iterations):\n",
        "        grad = grad_f(x)\n",
        "        x = x - lr * grad\n",
        "    return x\n",
        "\n",
        "x_min1 = gradient_descent(-1.5)\n",
        "x_min2 = gradient_descent(0.5)\n",
        "x_min3 = gradient_descent(2.0)\n",
        "\n",
        "print(f'Cực trị tìm được: x_min1 = {x_min1}, x_min2 = {x_min2}, x_min3 = {x_min3}')\n"
      ],
      "metadata": {
        "id": "qSzxeo5upubu"
      },
      "execution_count": null,
      "outputs": []
    },
    {
      "cell_type": "code",
      "source": [
        "# TASK 2\n",
        "import numpy as np\n",
        "import matplotlib.pyplot as plt\n",
        "from scipy.stats import linregress\n",
        "\n",
        "# Dữ liệu kinh nghiệm làm việc (năm) và thu nhập (nghìn USD/năm)\n",
        "x = np.array([1, 2, 3, 4, 5])\n",
        "y = np.array([39.3, 43.5, 56.6, 67.9, 73.1])\n",
        "\n",
        "# 1. Tính giá trị trung bình và độ lệch chuẩn\n",
        "mean_y = np.mean(y)\n",
        "std_y = np.std(y, ddof=1)\n",
        "\n",
        "print(f\"Giá trị trung bình của thu nhập: {mean_y:.2f} nghìn USD/năm\")\n",
        "print(f\"Độ lệch chuẩn của thu nhập: {std_y:.2f} nghìn USD/năm\")\n",
        "\n",
        "# 2. Tính hệ số tương quan\n",
        "correlation_coefficient = np.corrcoef(x, y)[0, 1]\n",
        "print(f\"Hệ số tương quan: {correlation_coefficient:.4f}\")\n",
        "\n",
        "# 3. Hồi quy tuyến tính để tìm a, b\n",
        "slope, intercept, r_value, p_value, std_err = linregress(x, y)\n",
        "print(f\"Phương trình hồi quy: y = {slope:.2f}x + {intercept:.2f}\")\n",
        "\n",
        "# 4. Tính đạo hàm của hàm loss function\n",
        "def loss_function(a, b):\n",
        "    y_pred = a * x + b\n",
        "    return 0.5 * np.sum((y_pred - y) ** 2)\n",
        "\n",
        "def gradients(a, b):\n",
        "    y_pred = a * x + b\n",
        "    da = np.sum((y_pred - y) * x)\n",
        "    db = np.sum(y_pred - y)\n",
        "    return da, db\n",
        "\n",
        "# 5. Dự đoán lương cho sinh viên mới tốt nghiệp (x = 0)\n",
        "salary_fresh_grad = intercept\n",
        "print(f\"Mức lương đề xuất cho SV mới tốt nghiệp: {salary_fresh_grad:.2f} nghìn USD/năm\")\n",
        "\n",
        "# 6. Số năm kinh nghiệm cần để đạt mức lương 100000 USD/năm\n",
        "years_required = (100 - intercept) / slope\n",
        "print(f\"Số năm kinh nghiệm cần có để đạt 100 nghìn USD/năm: {years_required:.2f} năm\")\n",
        "\n",
        "# Vẽ biểu đồ\n",
        "plt.scatter(x, y, color='blue', label='Dữ liệu thực tế')\n",
        "plt.plot(x, slope * x + intercept, color='red', label='Hồi quy tuyến tính')\n",
        "plt.xlabel(\"Kinh nghiệm làm việc (năm)\")\n",
        "plt.ylabel(\"Thu nhập (nghìn USD/năm)\")\n",
        "plt.legend()\n",
        "plt.show()\n"
      ],
      "metadata": {
        "id": "wpYl5V_EsOT2"
      },
      "execution_count": null,
      "outputs": []
    }
  ]
}